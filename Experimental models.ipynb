{
 "cells": [
  {
   "cell_type": "code",
   "execution_count": 27,
   "id": "limited-adult",
   "metadata": {},
   "outputs": [],
   "source": [
    "import tensorflow as tf\n",
    "from tensorflow.keras.datasets import mnist\n",
    "import autokeras as ak\n",
    "\n",
    "from sklearn.model_selection import train_test_split\n",
    "import pickle\n",
    "import time, os\n",
    "import random\n",
    "import cv2\n",
    "import keras\n",
    "import numpy as np\n",
    "\n",
    "# Constants\n",
    "path = \"tmp/cryptokitties/\"\n",
    "\n",
    "# Prep dataset\n",
    "data = []\n",
    "labels = []\n",
    "\n",
    "imagePaths = sorted(\n",
    "    filter(lambda x: x.endswith(\".png\"), map(lambda x: path + x, list(os.listdir(path))))\n",
    ")\n",
    "random.seed(42)\n",
    "random.shuffle(imagePaths)\n",
    "\n",
    "for imagePath in imagePaths:\n",
    "    image = cv2.imread(imagePath)\n",
    "    image = cv2.resize(image, (32, 32))\n",
    "    image = cv2.cvtColor(image, cv2.COLOR_BGR2GRAY).flatten()\n",
    "    data.append(image)\n",
    "    label = int(imagePath.split(\"/\")[-1].split(\"_\")[0])\n",
    "    labels.append(label)\n",
    "\n",
    "\n",
    "\n"
   ]
  },
  {
   "cell_type": "code",
   "execution_count": 62,
   "id": "regular-laptop",
   "metadata": {
    "scrolled": true
   },
   "outputs": [
    {
     "name": "stdout",
     "output_type": "stream",
     "text": [
      "(99, 32, 32) (99,)\n"
     ]
    }
   ],
   "source": [
    "data_np = np.reshape(data,(99,32,32))\n",
    "labels_np = np.reshape(labels, (-1, 1)).astype('float32').ravel()\n",
    "print(data_np.shape,labels_np.shape)"
   ]
  },
  {
   "cell_type": "code",
   "execution_count": 63,
   "id": "funky-alaska",
   "metadata": {},
   "outputs": [
    {
     "name": "stdout",
     "output_type": "stream",
     "text": [
      "(74, 32, 32) (74,)\n"
     ]
    }
   ],
   "source": [
    "(x_train, x_test, y_train, y_test) = train_test_split(data_np, labels_np, test_size=0.25, random_state=42)\n",
    "\n",
    "print(x_train.shape,y_train.shape)"
   ]
  },
  {
   "cell_type": "code",
   "execution_count": null,
   "id": "sunrise-parker",
   "metadata": {
    "scrolled": true
   },
   "outputs": [
    {
     "name": "stdout",
     "output_type": "stream",
     "text": [
      "Starting\n",
      "\n",
      "Search: Running Trial #1\n",
      "\n",
      "Hyperparameter    |Value             |Best Value So Far \n",
      "image_block_11/...|False             |?                 \n",
      "image_block_11/...|False             |?                 \n",
      "image_block_11/...|resnet            |?                 \n",
      "image_block_11/...|False             |?                 \n",
      "image_block_11/...|resnet50          |?                 \n",
      "image_block_11/...|False             |?                 \n",
      "regression_head...|0                 |?                 \n",
      "optimizer         |adam              |?                 \n",
      "learning_rate     |0.001             |?                 \n",
      "\n",
      "Epoch 1/2\n",
      "2/2 [==============================] - 29s 6s/step - loss: nan - mean_squared_error: nan - val_loss: nan - val_mean_squared_error: nan                           \n"
     ]
    },
    {
     "name": "stderr",
     "output_type": "stream",
     "text": [
      "c:\\users\\hp\\anaconda3\\envs\\ml\\lib\\site-packages\\keras_tuner\\engine\\metrics_tracking.py:85: RuntimeWarning: All-NaN axis encountered\n",
      "  return np.nanmin(values)\n"
     ]
    },
    {
     "name": "stdout",
     "output_type": "stream",
     "text": [
      "Epoch 2/2\n",
      "2/2 [==============================] - 5s 3s/step - loss: nan - mean_squared_error: nan - val_loss: nan - val_mean_squared_error: nan\n"
     ]
    }
   ],
   "source": [
    "print(\"Starting\")\n",
    "reg = ak.ImageRegressor(overwrite=True, max_trials=1)\n",
    "reg.fit(x_train, y_train, epochs=2)\n"
   ]
  },
  {
   "cell_type": "code",
   "execution_count": null,
   "id": "sustainable-attachment",
   "metadata": {},
   "outputs": [],
   "source": [
    "# Predict with the best model.\n",
    "predicted_y = reg.predict(x_test)\n",
    "print(predicted_y)\n",
    "\n",
    "\n",
    "# Evaluate the best model with testing data.\n",
    "print(reg.evaluate(x_test, y_test))\n",
    "\n",
    "with open(f\"model-{time.time()}.pickle\", \"wb\") as fp:\n",
    "    pickle.dump(reg, fp)"
   ]
  },
  {
   "cell_type": "code",
   "execution_count": null,
   "id": "hired-dubai",
   "metadata": {},
   "outputs": [],
   "source": []
  }
 ],
 "metadata": {
  "kernelspec": {
   "display_name": "Python 3",
   "language": "python",
   "name": "python3"
  },
  "language_info": {
   "codemirror_mode": {
    "name": "ipython",
    "version": 3
   },
   "file_extension": ".py",
   "mimetype": "text/x-python",
   "name": "python",
   "nbconvert_exporter": "python",
   "pygments_lexer": "ipython3",
   "version": "3.8.5"
  }
 },
 "nbformat": 4,
 "nbformat_minor": 5
}
